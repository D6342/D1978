{
  "nbformat": 4,
  "nbformat_minor": 0,
  "metadata": {
    "colab": {
      "provenance": [],
      "authorship_tag": "ABX9TyN1S2zWSsidrO12UVOkHxwi",
      "include_colab_link": true
    },
    "kernelspec": {
      "name": "python3",
      "display_name": "Python 3"
    },
    "language_info": {
      "name": "python"
    }
  },
  "cells": [
    {
      "cell_type": "markdown",
      "metadata": {
        "id": "view-in-github",
        "colab_type": "text"
      },
      "source": [
        "<a href=\"https://colab.research.google.com/github/D6342/D1978/blob/main/BLC_P3_Create_a_Python_class_named_Transaction_with_attributes_for_sender%2C_receiver%2C_and_amount_Implement_a_method_within_the_class_to_transfer_money_from_the_sender's_account_to_the_receiver's_account_.ipynb\" target=\"_parent\"><img src=\"https://colab.research.google.com/assets/colab-badge.svg\" alt=\"Open In Colab\"/></a>"
      ]
    },
    {
      "cell_type": "code",
      "execution_count": null,
      "metadata": {
        "colab": {
          "base_uri": "https://localhost:8080/"
        },
        "id": "syE71-s_PXN5",
        "outputId": "4a72cbba-400f-4add-a1ff-247a1203e680"
      },
      "outputs": [
        {
          "output_type": "stream",
          "name": "stdout",
          "text": [
            "💰 Initial account balances: {'Alice': 500, 'Bob': 300, 'Charlie': 200}\n",
            "✅ 100 transferred from Alice to Bob.\n",
            "✅ 50 transferred from Bob to Charlie.\n",
            "❌ Insufficient funds in Charlie's account.\n",
            "\n",
            "💼 Final account balances: {'Alice': 400, 'Bob': 350, 'Charlie': 250}\n"
          ]
        }
      ],
      "source": [
        "# Simulate user accounts with balances\n",
        "accounts = {\n",
        "    \"Alice\": 500,\n",
        "    \"Bob\": 300,\n",
        "    \"Charlie\": 200\n",
        "}\n",
        "\n",
        "# Transaction class definition\n",
        "class Transaction:\n",
        "    def __init__(self, sender, receiver, amount):\n",
        "        self.sender = sender\n",
        "        self.receiver = receiver\n",
        "        self.amount = amount\n",
        "\n",
        "    def transfer(self):\n",
        "        # Check if users exist\n",
        "        if self.sender not in accounts or self.receiver not in accounts:\n",
        "            print(\"❌ Either sender or receiver account doesn't exist.\")\n",
        "            return\n",
        "\n",
        "        # Check for sufficient funds\n",
        "        if accounts[self.sender] < self.amount:\n",
        "            print(f\"❌ Insufficient funds in {self.sender}'s account.\")\n",
        "            return\n",
        "\n",
        "        # Perform transfer\n",
        "        accounts[self.sender] -= self.amount\n",
        "        accounts[self.receiver] += self.amount\n",
        "        print(f\"✅ {self.amount} transferred from {self.sender} to {self.receiver}.\")\n",
        "\n",
        "# Example usage\n",
        "print(\"💰 Initial account balances:\", accounts)\n",
        "\n",
        "# Create transactions\n",
        "t1 = Transaction(\"Alice\", \"Bob\", 100)\n",
        "t1.transfer()\n",
        "\n",
        "t2 = Transaction(\"Bob\", \"Charlie\", 50)\n",
        "t2.transfer()\n",
        "\n",
        "t3 = Transaction(\"Charlie\", \"Alice\", 300)  # This should fail due to insufficient funds\n",
        "t3.transfer()\n",
        "\n",
        "print(\"\\n💼 Final account balances:\", accounts)"
      ]
    }
  ]
}
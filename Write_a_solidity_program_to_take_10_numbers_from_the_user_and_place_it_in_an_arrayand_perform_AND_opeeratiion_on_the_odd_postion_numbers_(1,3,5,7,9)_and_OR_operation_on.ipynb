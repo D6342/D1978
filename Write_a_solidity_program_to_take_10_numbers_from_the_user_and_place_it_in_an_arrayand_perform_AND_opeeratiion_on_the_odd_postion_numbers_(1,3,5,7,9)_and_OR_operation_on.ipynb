{
  "nbformat": 4,
  "nbformat_minor": 0,
  "metadata": {
    "colab": {
      "provenance": [],
      "authorship_tag": "ABX9TyNQWcWpxwZezu4SbRUsA7Op",
      "include_colab_link": true
    },
    "kernelspec": {
      "name": "python3",
      "display_name": "Python 3"
    },
    "language_info": {
      "name": "python"
    }
  },
  "cells": [
    {
      "cell_type": "markdown",
      "metadata": {
        "id": "view-in-github",
        "colab_type": "text"
      },
      "source": [
        "<a href=\"https://colab.research.google.com/github/D6342/D1978/blob/main/Write_a_solidity_program_to_take_10_numbers_from_the_user_and_place_it_in_an_arrayand_perform_AND_opeeratiion_on_the_odd_postion_numbers_(1%2C3%2C5%2C7%2C9)_and_OR_operation_on.ipynb\" target=\"_parent\"><img src=\"https://colab.research.google.com/assets/colab-badge.svg\" alt=\"Open In Colab\"/></a>"
      ]
    },
    {
      "cell_type": "code",
      "execution_count": null,
      "metadata": {
        "id": "meTRXRLwTBTx"
      },
      "outputs": [],
      "source": [
        "Write a solidity program to take 10 numbers from the user and place it in an arrayand perform AND opeeratiion on the odd postion numbers (1,3,5,7,9) and OR operation on remaining numbers and hence perform multiplication of the results and also determine using a smart contract whether the results of AND operation , OR operation and the product\n",
        "are part of array or not.\n",
        "\n",
        "// SPDX-License-Identifier: MIT\n",
        "pragma solidity ^0.8.0;\n",
        "\n",
        "contract BitwiseOperations {\n",
        "    uint[10] public numbers;\n",
        "    uint public andResult;\n",
        "    uint public orResult;\n",
        "    uint public product;\n",
        "\n",
        "    // Set the 10 numbers\n",
        "    function setNumbers(uint[10] calldata _numbers) external {\n",
        "        for (uint i = 0; i < 10; i++) {\n",
        "            numbers[i] = _numbers[i];\n",
        "        }\n",
        "\n",
        "        computeResults();\n",
        "    }\n",
        "\n",
        "    // Perform AND, OR operations and multiplication\n",
        "    function computeResults() internal {\n",
        "        andResult = numbers[1]; // Start with index 0 (1st position)\n",
        "        for (uint i = 3; i < 10; i += 2) {\n",
        "            andResult &= numbers[i];\n",
        "        }\n",
        "\n",
        "        orResult = numbers[0]; // Start with index 1 (2nd position)\n",
        "        for (uint i = 2; i < 10; i += 2) {\n",
        "            orResult |= numbers[i];\n",
        "        }\n",
        "\n",
        "        product = andResult * orResult;\n",
        "    }\n",
        "\n",
        "    // Check if a number exists in the array\n",
        "    function existsInArray(uint value) public view returns (bool) {\n",
        "        for (uint i = 0; i < 10; i++) {\n",
        "            if (numbers[i] == value) {\n",
        "                return true;\n",
        "            }\n",
        "        }\n",
        "        return false;\n",
        "    }\n",
        "\n",
        "    // Check if the AND result is in the array\n",
        "    function isAndResultInArray() external view returns (bool) {\n",
        "        return existsInArray(andResult);\n",
        "    }\n",
        "\n",
        "    // Check if the OR result is in the array\n",
        "    function isOrResultInArray() external view returns (bool) {\n",
        "        return existsInArray(orResult);\n",
        "    }\n",
        "\n",
        "    // Check if the product is in the array\n",
        "    function isProductInArray() external view returns (bool) {\n",
        "        return existsInArray(product);\n",
        "    }\n",
        "}"
      ]
    }
  ]
}
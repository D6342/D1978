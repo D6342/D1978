{
  "nbformat": 4,
  "nbformat_minor": 0,
  "metadata": {
    "colab": {
      "provenance": [],
      "authorship_tag": "ABX9TyP2rrdbfGv4/+P8411NWqg8",
      "include_colab_link": true
    },
    "kernelspec": {
      "name": "python3",
      "display_name": "Python 3"
    },
    "language_info": {
      "name": "python"
    }
  },
  "cells": [
    {
      "cell_type": "markdown",
      "metadata": {
        "id": "view-in-github",
        "colab_type": "text"
      },
      "source": [
        "<a href=\"https://colab.research.google.com/github/D6342/D1978/blob/main/P1a_Introduction_to_TensorFlow(Using_Tensorflow_(4).ipynb\" target=\"_parent\"><img src=\"https://colab.research.google.com/assets/colab-badge.svg\" alt=\"Open In Colab\"/></a>"
      ]
    },
    {
      "cell_type": "code",
      "execution_count": null,
      "metadata": {
        "colab": {
          "base_uri": "https://localhost:8080/"
        },
        "id": "dkhr5h2AeRf2",
        "outputId": "b593aea6-9cb6-43f2-fee0-bdaa1bedd981"
      },
      "outputs": [
        {
          "output_type": "stream",
          "name": "stdout",
          "text": [
            "x: [2 4 6] Shape: (3,) Dtype: int32\n",
            "y: [1 3 5] Shape: (3,) Dtype: int32\n",
            "z = x + y: [ 3  7 11] Shape: (3,) Dtype: int32\n",
            "2D Matrix:\n",
            " [[1. 2.]\n",
            " [3. 4.]] Shape: (2, 2) Dtype: float64\n",
            "3D Tensor:\n",
            " [[[1.+2.j 3.+4.j]\n",
            "  [5.+6.j 7.+8.j]]] Shape: (1, 2, 2) Dtype: complex128\n"
          ]
        }
      ],
      "source": [
        "#a1\tCreate tensors with different shapes and data types.\n",
        "import numpy as np\n",
        "\n",
        "# 1D Vector (int)\n",
        "x = np.array([2, 4, 6], dtype=np.int32)\n",
        "y = np.array([1, 3, 5], dtype=np.int32)\n",
        "\n",
        "# 2D Matrix (float)\n",
        "matrix = np.array([[1.0, 2.0], [3.0, 4.0]], dtype=np.float64)\n",
        "\n",
        "# 3D Tensor (complex)\n",
        "tensor = np.array([[[1+2j, 3+4j], [5+6j, 7+8j]]], dtype=np.complex128)\n",
        "\n",
        "# Add x and y\n",
        "z = np.add(x, y)\n",
        "\n",
        "# Display everything\n",
        "print(\"x:\", x, \"Shape:\", x.shape, \"Dtype:\", x.dtype)\n",
        "print(\"y:\", y, \"Shape:\", y.shape, \"Dtype:\", y.dtype)\n",
        "print(\"z = x + y:\", z, \"Shape:\", z.shape, \"Dtype:\", z.dtype)\n",
        "print(\"2D Matrix:\\n\", matrix, \"Shape:\", matrix.shape, \"Dtype:\", matrix.dtype)\n",
        "print(\"3D Tensor:\\n\", tensor, \"Shape:\", tensor.shape, \"Dtype:\", tensor.dtype)\n"
      ]
    },
    {
      "cell_type": "code",
      "source": [
        "#a2\tPerform basic operations like addition, subtraction, multiplication, and division on tensors.\n",
        "import numpy as np\n",
        "\n",
        "# Define two 2D tensors (matrices)\n",
        "A = np.array([[2, 4], [6, 8]], dtype=np.float32)\n",
        "B = np.array([[1, 2], [3, 4]], dtype=np.float32)\n",
        "\n",
        "# Addition\n",
        "add_result = np.add(A, B)\n",
        "\n",
        "# Subtraction\n",
        "sub_result = np.subtract(A, B)\n",
        "\n",
        "# Element-wise Multiplication\n",
        "mul_result = np.multiply(A, B)\n",
        "\n",
        "# Element-wise Division\n",
        "div_result = np.divide(A, B)\n",
        "\n",
        "# Display the results\n",
        "print(\"A:\\n\", A)\n",
        "print(\"B:\\n\", B)\n",
        "print(\"\\nAddition (A + B):\\n\", add_result)\n",
        "print(\"\\nSubtraction (A - B):\\n\", sub_result)\n",
        "print(\"\\nMultiplication (A * B):\\n\", mul_result)\n",
        "print(\"\\nDivision (A / B):\\n\", div_result)"
      ],
      "metadata": {
        "colab": {
          "base_uri": "https://localhost:8080/"
        },
        "id": "f1uRPjvKfi5N",
        "outputId": "b0a50ad5-056d-47c2-e845-bdbfdd8a04da"
      },
      "execution_count": null,
      "outputs": [
        {
          "output_type": "stream",
          "name": "stdout",
          "text": [
            "A:\n",
            " [[2. 4.]\n",
            " [6. 8.]]\n",
            "B:\n",
            " [[1. 2.]\n",
            " [3. 4.]]\n",
            "\n",
            "Addition (A + B):\n",
            " [[ 3.  6.]\n",
            " [ 9. 12.]]\n",
            "\n",
            "Subtraction (A - B):\n",
            " [[1. 2.]\n",
            " [3. 4.]]\n",
            "\n",
            "Multiplication (A * B):\n",
            " [[ 2.  8.]\n",
            " [18. 32.]]\n",
            "\n",
            "Division (A / B):\n",
            " [[2. 2.]\n",
            " [2. 2.]]\n"
          ]
        }
      ]
    },
    {
      "cell_type": "code",
      "source": [
        "#a3\tReshape, slice, and index tensors to extract specific elements or sections.\n",
        "import numpy as np\n",
        "\n",
        "# Create a 1D tensor and reshape it to 2D\n",
        "tensor = np.arange(1, 13).reshape(3, 4)\n",
        "print(\"Original Tensor:\\n\", tensor)\n",
        "\n",
        "# Indexing: Get element at row 1, column 2\n",
        "print(\"\\nElement at (1,2):\", tensor[1, 2])\n",
        "\n",
        "# Slicing: Get the first two rows and first three columns\n",
        "print(\"\\nSliced Tensor (first 2 rows, first 3 cols):\\n\", tensor[:2, :3])\n",
        "\n",
        "# Extract a specific row\n",
        "print(\"\\nSecond Row:\", tensor[1])\n",
        "\n",
        "# Extract a specific column\n",
        "print(\"\\nThird Column:\", tensor[:, 2])"
      ],
      "metadata": {
        "colab": {
          "base_uri": "https://localhost:8080/"
        },
        "id": "JsVfCCnPfjGU",
        "outputId": "83846b6c-e990-41f2-ce9b-b9368df36195"
      },
      "execution_count": null,
      "outputs": [
        {
          "output_type": "stream",
          "name": "stdout",
          "text": [
            "Original Tensor:\n",
            " [[ 1  2  3  4]\n",
            " [ 5  6  7  8]\n",
            " [ 9 10 11 12]]\n",
            "\n",
            "Element at (1,2): 7\n",
            "\n",
            "Sliced Tensor (first 2 rows, first 3 cols):\n",
            " [[1 2 3]\n",
            " [5 6 7]]\n",
            "\n",
            "Second Row: [5 6 7 8]\n",
            "\n",
            "Third Column: [ 3  7 11]\n"
          ]
        }
      ]
    },
    {
      "cell_type": "code",
      "source": [
        "#a4\tPerforming matrix multiplication and finding eigenvectors and eigenvalues using TensorFlow\n",
        "\n",
        "#Eigen value using tensorflow\n",
        "import tensorflow as tf\n",
        "x = tf.constant([1,2,3,4,5,6], shape = [2,3])\n",
        "print(x)\n",
        "\n",
        "y = tf.constant([7,8,9,10,11,12],shape = [3,2])\n",
        "print(y)\n",
        "\n",
        "z = tf.matmul(x,y)\n",
        "print(\"Product: /n/n/n\", z)\n",
        "\n",
        "e_Matrix_A = tf.random.uniform([2,2], minval=3, maxval=10, dtype=tf.float32,name=\"matrixA\")\n",
        "print(\"Matrix A= /n/n/n\", e_Matrix_A)\n",
        "\n",
        "eigen_values_A, eigen_vector_A = tf.linalg.eigh(e_Matrix_A)\n",
        "print(\"Eigen value of A /n/n/n\", eigen_values_A)\n",
        "print(\"Eigen vector of A /n/n/n\", eigen_vector_A)"
      ],
      "metadata": {
        "colab": {
          "base_uri": "https://localhost:8080/"
        },
        "id": "dulQlil0fjUR",
        "outputId": "fe179d1b-8909-4217-933d-591ddee01cd0"
      },
      "execution_count": null,
      "outputs": [
        {
          "output_type": "stream",
          "name": "stdout",
          "text": [
            "tf.Tensor(\n",
            "[[1 2 3]\n",
            " [4 5 6]], shape=(2, 3), dtype=int32)\n",
            "tf.Tensor(\n",
            "[[ 7  8]\n",
            " [ 9 10]\n",
            " [11 12]], shape=(3, 2), dtype=int32)\n",
            "Product: /n/n/n tf.Tensor(\n",
            "[[ 58  64]\n",
            " [139 154]], shape=(2, 2), dtype=int32)\n",
            "Matrix A= /n/n/n tf.Tensor(\n",
            "[[3.1795635 4.005416 ]\n",
            " [5.9060154 4.9799967]], shape=(2, 2), dtype=float32)\n",
            "Eigen value of A /n/n/n tf.Tensor([-1.8944484 10.054009 ], shape=(2,), dtype=float32)\n",
            "Eigen vector of A /n/n/n tf.Tensor(\n",
            "[[-0.75851285 -0.6516581 ]\n",
            " [ 0.6516581  -0.75851285]], shape=(2, 2), dtype=float32)\n"
          ]
        }
      ]
    }
  ]
}
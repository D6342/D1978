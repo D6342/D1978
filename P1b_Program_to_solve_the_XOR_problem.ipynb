{
  "nbformat": 4,
  "nbformat_minor": 0,
  "metadata": {
    "colab": {
      "provenance": [],
      "authorship_tag": "ABX9TyPm3enkXgmAdNa484BxUZMP",
      "include_colab_link": true
    },
    "kernelspec": {
      "name": "python3",
      "display_name": "Python 3"
    },
    "language_info": {
      "name": "python"
    }
  },
  "cells": [
    {
      "cell_type": "markdown",
      "metadata": {
        "id": "view-in-github",
        "colab_type": "text"
      },
      "source": [
        "<a href=\"https://colab.research.google.com/github/D6342/D1978/blob/main/P1b_Program_to_solve_the_XOR_problem.ipynb\" target=\"_parent\"><img src=\"https://colab.research.google.com/assets/colab-badge.svg\" alt=\"Open In Colab\"/></a>"
      ]
    },
    {
      "cell_type": "code",
      "execution_count": null,
      "metadata": {
        "colab": {
          "base_uri": "https://localhost:8080/"
        },
        "id": "uJ5XR7z-bbv2",
        "outputId": "68f0677e-4062-470f-998f-352f6acedc62"
      },
      "outputs": [
        {
          "output_type": "stream",
          "name": "stdout",
          "text": [
            "Input data:\n",
            "[[0. 0.]\n",
            " [0. 1.]\n",
            " [1. 0.]\n",
            " [1. 1.]]\n",
            "\n",
            "Target labels:\n",
            "[0. 1. 1. 0.]\n",
            "\u001b[1m1/1\u001b[0m \u001b[32m━━━━━━━━━━━━━━━━━━━━\u001b[0m\u001b[37m\u001b[0m \u001b[1m0s\u001b[0m 61ms/step\n",
            "\n",
            "Predictions after training:\n",
            "[[0.44913948]\n",
            " [0.4491306 ]\n",
            " [0.65454435]\n",
            " [0.44919714]]\n"
          ]
        }
      ],
      "source": [
        "import numpy as np\n",
        "from keras.models import Sequential\n",
        "from keras.layers import Dense\n",
        "\n",
        "# Build model\n",
        "model = Sequential()\n",
        "model.add(Dense(units=2, activation='relu', input_dim=2))\n",
        "model.add(Dense(units=1, activation='sigmoid'))\n",
        "\n",
        "# Compile with metrics in a list\n",
        "model.compile(loss='binary_crossentropy', optimizer='adam', metrics=['accuracy'])\n",
        "\n",
        "# XOR data\n",
        "X = np.array([[0., 0.], [0., 1.], [1., 0.], [1., 1.]])\n",
        "print(\"Input data:\")\n",
        "print(X)\n",
        "\n",
        "y = np.array([0., 1., 1., 0.])\n",
        "print(\"\\nTarget labels:\")\n",
        "print(y)\n",
        "\n",
        "# Train model\n",
        "model.fit(X, y, epochs=500, verbose=0)\n",
        "\n",
        "# Predict\n",
        "predictions = model.predict(X)\n",
        "print(\"\\nPredictions after training:\")\n",
        "print(predictions)\n"
      ]
    }
  ]
}
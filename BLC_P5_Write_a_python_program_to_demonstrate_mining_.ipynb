{
  "nbformat": 4,
  "nbformat_minor": 0,
  "metadata": {
    "colab": {
      "provenance": [],
      "authorship_tag": "ABX9TyMxG/9O73POPuVuxkOx20qf",
      "include_colab_link": true
    },
    "kernelspec": {
      "name": "python3",
      "display_name": "Python 3"
    },
    "language_info": {
      "name": "python"
    }
  },
  "cells": [
    {
      "cell_type": "markdown",
      "metadata": {
        "id": "view-in-github",
        "colab_type": "text"
      },
      "source": [
        "<a href=\"https://colab.research.google.com/github/D6342/D1978/blob/main/BLC_P5_Write_a_python_program_to_demonstrate_mining_.ipynb\" target=\"_parent\"><img src=\"https://colab.research.google.com/assets/colab-badge.svg\" alt=\"Open In Colab\"/></a>"
      ]
    },
    {
      "cell_type": "code",
      "execution_count": null,
      "metadata": {
        "colab": {
          "base_uri": "https://localhost:8080/"
        },
        "id": "L4CjfmYR55A6",
        "outputId": "03024f76-ddef-4592-e18a-fcc0acf60767"
      },
      "outputs": [
        {
          "output_type": "stream",
          "name": "stdout",
          "text": [
            "⛏️ Starting mining...\n",
            "✅ Block mined successfully!\n",
            "🔢 Nonce: 2040\n",
            "🔐 Hash: 000077330197cd1a3f60c19a7990fa2b8ee23911e7d378d6e37d7d5d11d10b21\n",
            "⏱️ Time taken: 0.01 seconds\n"
          ]
        }
      ],
      "source": [
        "import hashlib\n",
        "import time\n",
        "\n",
        "# Define the mining function\n",
        "def mine_block(block_data, difficulty):\n",
        "    prefix_str = '0' * difficulty\n",
        "    nonce = 0\n",
        "    start_time = time.time()\n",
        "\n",
        "    print(\"⛏️ Starting mining...\")\n",
        "    while True:\n",
        "        text = f\"{block_data}{nonce}\"\n",
        "        hash_result = hashlib.sha256(text.encode()).hexdigest()\n",
        "        if hash_result.startswith(prefix_str):\n",
        "            end_time = time.time()\n",
        "            print(f\"✅ Block mined successfully!\")\n",
        "            print(f\"🔢 Nonce: {nonce}\")\n",
        "            print(f\"🔐 Hash: {hash_result}\")\n",
        "            print(f\"⏱️ Time taken: {end_time - start_time:.2f} seconds\")\n",
        "            break\n",
        "        nonce += 1\n",
        "\n",
        "# Example usage\n",
        "block_data = \"Alice pays Bob 10 BTC\"\n",
        "difficulty = 4  # Increase for higher difficulty\n",
        "\n",
        "mine_block(block_data, difficulty)\n"
      ]
    }
  ]
}
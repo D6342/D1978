{
  "nbformat": 4,
  "nbformat_minor": 0,
  "metadata": {
    "colab": {
      "provenance": [],
      "authorship_tag": "ABX9TyPv01YdNKvYQPtFQNiDuCm9",
      "include_colab_link": true
    },
    "kernelspec": {
      "name": "python3",
      "display_name": "Python 3"
    },
    "language_info": {
      "name": "python"
    }
  },
  "cells": [
    {
      "cell_type": "markdown",
      "metadata": {
        "id": "view-in-github",
        "colab_type": "text"
      },
      "source": [
        "<a href=\"https://colab.research.google.com/github/D6342/D1978/blob/main/BLC_P4_Implement_a_function_to_add_new_blocks_to_the_miner_and_dump_the_blockchain_.ipynb\" target=\"_parent\"><img src=\"https://colab.research.google.com/assets/colab-badge.svg\" alt=\"Open In Colab\"/></a>"
      ]
    },
    {
      "cell_type": "code",
      "execution_count": null,
      "metadata": {
        "colab": {
          "base_uri": "https://localhost:8080/"
        },
        "id": "IwWKes04148C",
        "outputId": "7f1a2728-234a-42ec-b5d9-f23c7cd3042e"
      },
      "outputs": [
        {
          "output_type": "stream",
          "name": "stdout",
          "text": [
            "⛏️ Mining block #1...\n",
            "✅ Block #1 mined: 000068d53d70b21aa3674c85c486e1e2aaac64da57f3f6f01c4d27767c6a6d0c\n",
            "⛏️ Mining block #2...\n",
            "✅ Block #2 mined: 000031350a5633920ad50b02ecdbe39d69827edb522d30b91d02a7a2de24c351\n",
            "⛏️ Mining block #3...\n",
            "✅ Block #3 mined: 0000da7359407f379eb90d3197cc2024a75a157d4d16a6204f0512456f53f810\n",
            "\n",
            "📦 Blockchain Dump:\n",
            "{'Index': 0, 'Previous Hash': '0', 'Timestamp': '2025-06-20 15:08:28', 'Data': 'Genesis Block', 'Nonce': 0, 'Hash': 'a33663284afb4ce1caa2fc2591a476453eda04dce9460c2ec3d5215c96b2e432'}\n",
            "{'Index': 1, 'Previous Hash': 'a33663284afb4ce1caa2fc2591a476453eda04dce9460c2ec3d5215c96b2e432', 'Timestamp': '2025-06-20 15:08:28', 'Data': {'sender': 'Alice', 'receiver': 'Bob', 'amount': 50}, 'Nonce': 3393, 'Hash': '000068d53d70b21aa3674c85c486e1e2aaac64da57f3f6f01c4d27767c6a6d0c'}\n",
            "{'Index': 2, 'Previous Hash': '000068d53d70b21aa3674c85c486e1e2aaac64da57f3f6f01c4d27767c6a6d0c', 'Timestamp': '2025-06-20 15:08:28', 'Data': {'sender': 'Bob', 'receiver': 'Charlie', 'amount': 25}, 'Nonce': 147307, 'Hash': '000031350a5633920ad50b02ecdbe39d69827edb522d30b91d02a7a2de24c351'}\n",
            "{'Index': 3, 'Previous Hash': '000031350a5633920ad50b02ecdbe39d69827edb522d30b91d02a7a2de24c351', 'Timestamp': '2025-06-20 15:08:30', 'Data': {'sender': 'Charlie', 'receiver': 'Alice', 'amount': 10}, 'Nonce': 24545, 'Hash': '0000da7359407f379eb90d3197cc2024a75a157d4d16a6204f0512456f53f810'}\n"
          ]
        }
      ],
      "source": [
        "import hashlib\n",
        "import time\n",
        "import json\n",
        "\n",
        "# Block class\n",
        "class Block:\n",
        "    def __init__(self, index, previous_hash, timestamp, data, nonce=0):\n",
        "        self.index = index\n",
        "        self.previous_hash = previous_hash\n",
        "        self.timestamp = timestamp\n",
        "        self.data = data\n",
        "        self.nonce = nonce\n",
        "        self.hash = self.calculate_hash()\n",
        "\n",
        "    def calculate_hash(self):\n",
        "        block_string = f\"{self.index}{self.previous_hash}{self.timestamp}{json.dumps(self.data)}{self.nonce}\"\n",
        "        return hashlib.sha256(block_string.encode()).hexdigest()\n",
        "\n",
        "# Blockchain class\n",
        "class Blockchain:\n",
        "    def __init__(self):\n",
        "        self.chain = [self.create_genesis_block()]\n",
        "        self.difficulty = 4  # Number of leading zeros in the hash\n",
        "\n",
        "    def create_genesis_block(self):\n",
        "        return Block(0, \"0\", time.time(), \"Genesis Block\")\n",
        "\n",
        "    def get_latest_block(self):\n",
        "        return self.chain[-1]\n",
        "\n",
        "    def mine_block(self, data):\n",
        "        previous_block = self.get_latest_block()\n",
        "        index = previous_block.index + 1\n",
        "        timestamp = time.time()\n",
        "        nonce = 0\n",
        "\n",
        "        print(f\"⛏️ Mining block #{index}...\")\n",
        "\n",
        "        new_block = Block(index, previous_block.hash, timestamp, data, nonce)\n",
        "        while not new_block.hash.startswith('0' * self.difficulty):\n",
        "            new_block.nonce += 1\n",
        "            new_block.hash = new_block.calculate_hash()\n",
        "\n",
        "        self.chain.append(new_block)\n",
        "        print(f\"✅ Block #{index} mined: {new_block.hash}\")\n",
        "\n",
        "    def dump_chain(self):\n",
        "        print(\"\\n📦 Blockchain Dump:\")\n",
        "        for block in self.chain:\n",
        "            print({\n",
        "                'Index': block.index,\n",
        "                'Previous Hash': block.previous_hash,\n",
        "                'Timestamp': time.strftime('%Y-%m-%d %H:%M:%S', time.localtime(block.timestamp)),\n",
        "                'Data': block.data,\n",
        "                'Nonce': block.nonce,\n",
        "                'Hash': block.hash\n",
        "            })\n",
        "\n",
        "# Create the blockchain\n",
        "my_blockchain = Blockchain()\n",
        "\n",
        "# Add (mine) blocks\n",
        "my_blockchain.mine_block({\"sender\": \"Alice\", \"receiver\": \"Bob\", \"amount\": 50})\n",
        "my_blockchain.mine_block({\"sender\": \"Bob\", \"receiver\": \"Charlie\", \"amount\": 25})\n",
        "my_blockchain.mine_block({\"sender\": \"Charlie\", \"receiver\": \"Alice\", \"amount\": 10})\n",
        "\n",
        "# Dump the entire blockchain\n",
        "my_blockchain.dump_chain()"
      ]
    }
  ]
}